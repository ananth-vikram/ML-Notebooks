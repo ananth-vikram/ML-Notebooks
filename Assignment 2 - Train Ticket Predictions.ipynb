{
 "cells": [
  {
   "cell_type": "markdown",
   "metadata": {},
   "source": [
    "Assignment 2 - Train Ticket Predictions\n",
    "Author - Ananth Vikram"
   ]
  },
  {
   "cell_type": "code",
   "execution_count": 234,
   "metadata": {},
   "outputs": [],
   "source": [
    "#Load required libraries\n",
    "\n",
    "import numpy as np # linear algebra\n",
    "import pandas as pd\n",
    "from sklearn.model_selection import train_test_split\n",
    "from sklearn.tree import DecisionTreeClassifier\n",
    "from sklearn.neighbors import KNeighborsClassifier\n",
    "from sklearn.linear_model import LogisticRegression\n",
    "from sklearn import svm\n",
    "from sklearn.naive_bayes import GaussianNB\n",
    "import os\n",
    "import seaborn as sns\n",
    "import matplotlib.pyplot as plt\n",
    "from  sklearn.metrics import confusion_matrix \n",
    "import logging,sys\n",
    "from sklearn import preprocessing, neighbors\n",
    "from sklearn.ensemble import RandomForestClassifier\n",
    "from sklearn.metrics import roc_auc_score\n",
    "from sklearn.metrics import roc_curve\n",
    "import re\n",
    "from datetime import date\n",
    "import calendar"
   ]
  },
  {
   "cell_type": "code",
   "execution_count": 235,
   "metadata": {},
   "outputs": [],
   "source": [
    "#Input data file\n",
    "\n",
    "ticket_data = pd.read_csv('ML2_12864_TRAIN.txt',sep=\"\\t\",encoding='latin',parse_dates = True\n",
    "                          , low_memory = False, index_col = 'JourneyDate')"
   ]
  },
  {
   "cell_type": "code",
   "execution_count": 236,
   "metadata": {},
   "outputs": [
    {
     "name": "stdout",
     "output_type": "stream",
     "text": [
      "Dimensions:\n",
      " (3225, 4)\n",
      "---------------------------------------------------------------------\n",
      "Columns:\n",
      " Index(['BookingStatus', 'TrainNo', 'ClassOfTravel', 'ChartingStatus'], dtype='object')\n",
      "---------------------------------------------------------------------\n",
      "Top 3 rows:\n",
      "             BookingStatus TrainNo ClassOfTravel ChartingStatus\n",
      "JourneyDate                                                   \n",
      "2016-12-02    W/L    9,TQ  *12864            3A       B2  , 14\n",
      "2016-12-01    W/L    3,TQ  *12864            3A       B2  ,  8\n",
      "2016-12-03    W/L    1,TQ  *12864            2A             WL\n",
      "---------------------------------------------------------------------\n",
      "Info:\n",
      "\n",
      "<class 'pandas.core.frame.DataFrame'>\n",
      "DatetimeIndex: 3225 entries, 2016-12-02 to 2018-07-20\n",
      "Data columns (total 4 columns):\n",
      "BookingStatus     3225 non-null object\n",
      "TrainNo           3225 non-null object\n",
      "ClassOfTravel     3225 non-null object\n",
      "ChartingStatus    3225 non-null object\n",
      "dtypes: object(4)\n",
      "memory usage: 126.0+ KB\n",
      "None\n",
      "---------------------------------------------------------------------\n",
      "Unique value count:\n",
      "\n",
      "BookingStatus     235\n",
      "TrainNo             2\n",
      "ClassOfTravel       6\n",
      "ChartingStatus    598\n",
      "dtype: int64\n",
      "---------------------------------------------------------------------\n",
      "Missing value count:\n",
      "\n",
      "BookingStatus     0\n",
      "TrainNo           0\n",
      "ClassOfTravel     0\n",
      "ChartingStatus    0\n",
      "dtype: int64\n",
      "---------------------------------------------------------------------\n",
      "Unique values:\n",
      "\n",
      "TrainNo                      [*12864, 12864]\n",
      "ClassOfTravel    [ 3A,  2A,  SL, SL, 3A, 2A]\n",
      "dtype: object\n"
     ]
    }
   ],
   "source": [
    "#Basic Data Exploration\n",
    "\n",
    "print(\"Dimensions:\\n\",ticket_data.shape)\n",
    "print(\"---------------------------------------------------------------------\")\n",
    "print(\"Columns:\\n\",ticket_data.columns)\n",
    "print(\"---------------------------------------------------------------------\")\n",
    "print(\"Top 3 rows:\\n\",ticket_data.head(3))\n",
    "print(\"---------------------------------------------------------------------\")\n",
    "print(\"Info:\\n\")\n",
    "print(ticket_data.info())\n",
    "print(\"---------------------------------------------------------------------\")\n",
    "print(\"Unique value count:\\n\")\n",
    "print(ticket_data.apply(lambda x: x.nunique()))\n",
    "print(\"---------------------------------------------------------------------\")\n",
    "print(\"Missing value count:\\n\")\n",
    "print(ticket_data.apply(lambda x: x.isna().sum()))\n",
    "print(\"---------------------------------------------------------------------\")\n",
    "print(\"Unique values:\\n\")\n",
    "print(ticket_data[['TrainNo', 'ClassOfTravel']].apply(lambda x: x.unique().tolist()))"
   ]
  },
  {
   "cell_type": "code",
   "execution_count": 237,
   "metadata": {},
   "outputs": [],
   "source": [
    "#Data Cleaning\n",
    "\n",
    "ticket_data['ClassOfTravel']=[x.replace(\" \", \"\") for x in ticket_data['ClassOfTravel']]\n",
    "ticket_data['TrainNo']=[x.replace(\"*\", \"\") for x in ticket_data['TrainNo']]"
   ]
  },
  {
   "cell_type": "code",
   "execution_count": 238,
   "metadata": {},
   "outputs": [],
   "source": [
    "#Variable creation\n",
    "\n",
    "ticket_data['Confirmation'] = [1 if 'WL' not in x.replace(\"/\", \"\")  else 0 for x in ticket_data['ChartingStatus']]\n",
    "ticket_data['WL_Position'] = [ re.sub(r'[^0-9]', \"\", x)  for x in ticket_data['BookingStatus']]\n",
    "ticket_data['WL_Type'] =  [1 if 'W/L' in x  else 0 for x in ticket_data['BookingStatus']]\n",
    "# ticket_data['Year'] = ticket_data.index.year\n",
    "# ticket_data['Month'] = ticket_data.index.month.map(\"{:02}\".format)\n",
    "# ticket_data['Day'] = ticket_data.index.strftime('%A')"
   ]
  },
  {
   "cell_type": "code",
   "execution_count": 239,
   "metadata": {},
   "outputs": [
    {
     "data": {
      "text/html": [
       "<div>\n",
       "<style scoped>\n",
       "    .dataframe tbody tr th:only-of-type {\n",
       "        vertical-align: middle;\n",
       "    }\n",
       "\n",
       "    .dataframe tbody tr th {\n",
       "        vertical-align: top;\n",
       "    }\n",
       "\n",
       "    .dataframe thead th {\n",
       "        text-align: right;\n",
       "    }\n",
       "</style>\n",
       "<table border=\"1\" class=\"dataframe\">\n",
       "  <thead>\n",
       "    <tr style=\"text-align: right;\">\n",
       "      <th></th>\n",
       "      <th>BookingStatus</th>\n",
       "      <th>TrainNo</th>\n",
       "      <th>ClassOfTravel</th>\n",
       "      <th>ChartingStatus</th>\n",
       "      <th>Confirmation</th>\n",
       "      <th>WL_Position</th>\n",
       "      <th>WL_Type</th>\n",
       "    </tr>\n",
       "    <tr>\n",
       "      <th>JourneyDate</th>\n",
       "      <th></th>\n",
       "      <th></th>\n",
       "      <th></th>\n",
       "      <th></th>\n",
       "      <th></th>\n",
       "      <th></th>\n",
       "      <th></th>\n",
       "    </tr>\n",
       "  </thead>\n",
       "  <tbody>\n",
       "    <tr>\n",
       "      <th>2016-12-02</th>\n",
       "      <td>W/L    9,TQ</td>\n",
       "      <td>12864</td>\n",
       "      <td>3A</td>\n",
       "      <td>B2  , 14</td>\n",
       "      <td>1</td>\n",
       "      <td>9</td>\n",
       "      <td>1</td>\n",
       "    </tr>\n",
       "    <tr>\n",
       "      <th>2016-12-01</th>\n",
       "      <td>W/L    3,TQ</td>\n",
       "      <td>12864</td>\n",
       "      <td>3A</td>\n",
       "      <td>B2  ,  8</td>\n",
       "      <td>1</td>\n",
       "      <td>3</td>\n",
       "      <td>1</td>\n",
       "    </tr>\n",
       "    <tr>\n",
       "      <th>2016-12-03</th>\n",
       "      <td>W/L    1,TQ</td>\n",
       "      <td>12864</td>\n",
       "      <td>2A</td>\n",
       "      <td>WL</td>\n",
       "      <td>0</td>\n",
       "      <td>1</td>\n",
       "      <td>1</td>\n",
       "    </tr>\n",
       "    <tr>\n",
       "      <th>2016-12-03</th>\n",
       "      <td>W/L   67,TQ</td>\n",
       "      <td>12864</td>\n",
       "      <td>SL</td>\n",
       "      <td>W/L   19</td>\n",
       "      <td>0</td>\n",
       "      <td>67</td>\n",
       "      <td>1</td>\n",
       "    </tr>\n",
       "  </tbody>\n",
       "</table>\n",
       "</div>"
      ],
      "text/plain": [
       "            BookingStatus TrainNo ClassOfTravel ChartingStatus  Confirmation  \\\n",
       "JourneyDate                                                                    \n",
       "2016-12-02    W/L    9,TQ   12864            3A       B2  , 14             1   \n",
       "2016-12-01    W/L    3,TQ   12864            3A       B2  ,  8             1   \n",
       "2016-12-03    W/L    1,TQ   12864            2A             WL             0   \n",
       "2016-12-03    W/L   67,TQ   12864            SL       W/L   19             0   \n",
       "\n",
       "            WL_Position  WL_Type  \n",
       "JourneyDate                       \n",
       "2016-12-02            9        1  \n",
       "2016-12-01            3        1  \n",
       "2016-12-03            1        1  \n",
       "2016-12-03           67        1  "
      ]
     },
     "execution_count": 239,
     "metadata": {},
     "output_type": "execute_result"
    }
   ],
   "source": [
    "ticket_data.head(4)"
   ]
  },
  {
   "cell_type": "code",
   "execution_count": 240,
   "metadata": {},
   "outputs": [
    {
     "data": {
      "text/plain": [
       "WL_Type  Confirmation\n",
       "0        0               1908\n",
       "         1                490\n",
       "1        0                675\n",
       "         1                152\n",
       "dtype: int64"
      ]
     },
     "execution_count": 240,
     "metadata": {},
     "output_type": "execute_result"
    }
   ],
   "source": [
    "ticket_data.groupby(['WL_Type','Confirmation']).size()"
   ]
  },
  {
   "cell_type": "code",
   "execution_count": 241,
   "metadata": {},
   "outputs": [
    {
     "data": {
      "text/plain": [
       "Index(['BookingStatus', 'TrainNo', 'ClassOfTravel', 'ChartingStatus',\n",
       "       'Confirmation', 'WL_Position', 'WL_Type'],\n",
       "      dtype='object')"
      ]
     },
     "execution_count": 241,
     "metadata": {},
     "output_type": "execute_result"
    }
   ],
   "source": [
    "ticket_data.columns"
   ]
  },
  {
   "cell_type": "code",
   "execution_count": 242,
   "metadata": {},
   "outputs": [],
   "source": [
    "#Creating dummy variables to handle categorical variables\n",
    "\n",
    "ticket_dummy_df=pd.get_dummies(ticket_data[['Confirmation', 'WL_Position', 'WL_Type','ClassOfTravel']],drop_first=True,columns=['WL_Type','ClassOfTravel'])"
   ]
  },
  {
   "cell_type": "code",
   "execution_count": 243,
   "metadata": {},
   "outputs": [
    {
     "data": {
      "text/html": [
       "<div>\n",
       "<style scoped>\n",
       "    .dataframe tbody tr th:only-of-type {\n",
       "        vertical-align: middle;\n",
       "    }\n",
       "\n",
       "    .dataframe tbody tr th {\n",
       "        vertical-align: top;\n",
       "    }\n",
       "\n",
       "    .dataframe thead th {\n",
       "        text-align: right;\n",
       "    }\n",
       "</style>\n",
       "<table border=\"1\" class=\"dataframe\">\n",
       "  <thead>\n",
       "    <tr style=\"text-align: right;\">\n",
       "      <th></th>\n",
       "      <th>Confirmation</th>\n",
       "      <th>WL_Position</th>\n",
       "      <th>WL_Type_1</th>\n",
       "      <th>ClassOfTravel_3A</th>\n",
       "      <th>ClassOfTravel_SL</th>\n",
       "    </tr>\n",
       "    <tr>\n",
       "      <th>JourneyDate</th>\n",
       "      <th></th>\n",
       "      <th></th>\n",
       "      <th></th>\n",
       "      <th></th>\n",
       "      <th></th>\n",
       "    </tr>\n",
       "  </thead>\n",
       "  <tbody>\n",
       "    <tr>\n",
       "      <th>2016-12-02</th>\n",
       "      <td>1</td>\n",
       "      <td>9</td>\n",
       "      <td>1</td>\n",
       "      <td>1</td>\n",
       "      <td>0</td>\n",
       "    </tr>\n",
       "    <tr>\n",
       "      <th>2016-12-01</th>\n",
       "      <td>1</td>\n",
       "      <td>3</td>\n",
       "      <td>1</td>\n",
       "      <td>1</td>\n",
       "      <td>0</td>\n",
       "    </tr>\n",
       "    <tr>\n",
       "      <th>2016-12-03</th>\n",
       "      <td>0</td>\n",
       "      <td>1</td>\n",
       "      <td>1</td>\n",
       "      <td>0</td>\n",
       "      <td>0</td>\n",
       "    </tr>\n",
       "    <tr>\n",
       "      <th>2016-12-03</th>\n",
       "      <td>0</td>\n",
       "      <td>67</td>\n",
       "      <td>1</td>\n",
       "      <td>0</td>\n",
       "      <td>1</td>\n",
       "    </tr>\n",
       "  </tbody>\n",
       "</table>\n",
       "</div>"
      ],
      "text/plain": [
       "             Confirmation WL_Position  WL_Type_1  ClassOfTravel_3A  \\\n",
       "JourneyDate                                                          \n",
       "2016-12-02              1           9          1                 1   \n",
       "2016-12-01              1           3          1                 1   \n",
       "2016-12-03              0           1          1                 0   \n",
       "2016-12-03              0          67          1                 0   \n",
       "\n",
       "             ClassOfTravel_SL  \n",
       "JourneyDate                    \n",
       "2016-12-02                  0  \n",
       "2016-12-01                  0  \n",
       "2016-12-03                  0  \n",
       "2016-12-03                  1  "
      ]
     },
     "execution_count": 243,
     "metadata": {},
     "output_type": "execute_result"
    }
   ],
   "source": [
    "ticket_dummy_df.head(4)"
   ]
  },
  {
   "cell_type": "code",
   "execution_count": 244,
   "metadata": {},
   "outputs": [],
   "source": [
    "ticket_dummy_df=ticket_dummy_df.apply(lambda x: x.astype('int64'))"
   ]
  },
  {
   "cell_type": "code",
   "execution_count": 245,
   "metadata": {},
   "outputs": [
    {
     "data": {
      "text/plain": [
       "Index(['Confirmation', 'WL_Position', 'WL_Type_1', 'ClassOfTravel_3A',\n",
       "       'ClassOfTravel_SL'],\n",
       "      dtype='object')"
      ]
     },
     "execution_count": 245,
     "metadata": {},
     "output_type": "execute_result"
    }
   ],
   "source": [
    "ticket_dummy_df.columns"
   ]
  },
  {
   "cell_type": "code",
   "execution_count": 246,
   "metadata": {},
   "outputs": [
    {
     "name": "stdout",
     "output_type": "stream",
     "text": [
      "<class 'pandas.core.frame.DataFrame'>\n",
      "DatetimeIndex: 3225 entries, 2016-12-02 to 2018-07-20\n",
      "Data columns (total 5 columns):\n",
      "Confirmation        3225 non-null int64\n",
      "WL_Position         3225 non-null int64\n",
      "WL_Type_1           3225 non-null int64\n",
      "ClassOfTravel_3A    3225 non-null int64\n",
      "ClassOfTravel_SL    3225 non-null int64\n",
      "dtypes: int64(5)\n",
      "memory usage: 151.2 KB\n"
     ]
    }
   ],
   "source": [
    "ticket_dummy_df.info()"
   ]
  },
  {
   "cell_type": "code",
   "execution_count": 247,
   "metadata": {},
   "outputs": [
    {
     "data": {
      "text/plain": [
       "<matplotlib.axes._subplots.AxesSubplot at 0x29626dc37b8>"
      ]
     },
     "execution_count": 247,
     "metadata": {},
     "output_type": "execute_result"
    },
    {
     "data": {
      "image/png": "[encoded data removed]",
      "text/plain": [
       "<matplotlib.figure.Figure at 0x29622c4c5c0>"
      ]
     },
     "metadata": {},
     "output_type": "display_data"
    }
   ],
   "source": [
    "# Compute the correlation matrix\n",
    "\n",
    "corr = ticket_dummy_df.corr()\n",
    "\n",
    "# Generate a mask for the upper triangle\n",
    "mask = np.zeros_like(corr, dtype=np.bool)\n",
    "mask[np.triu_indices_from(mask)] = True\n",
    "\n",
    "# Set up the matplotlib figure\n",
    "f, ax = plt.subplots(figsize=(10, 10))\n",
    "\n",
    "# Generate a custom diverging colormap\n",
    "cmap = sns.diverging_palette(12, 123, as_cmap=True)\n",
    "\n",
    "# Draw the heatmap with the mask and correct aspect ratio\n",
    "sns.heatmap(corr, mask=mask, cmap=cmap, vmax=.3, center=0,annot=True,\n",
    "            square=True, linewidths=.5, cbar_kws={\"shrink\": .5})"
   ]
  },
  {
   "cell_type": "code",
   "execution_count": 248,
   "metadata": {},
   "outputs": [
    {
     "name": "stderr",
     "output_type": "stream",
     "text": [
      "C:\\Users\\anant\\Anaconda3\\lib\\site-packages\\sklearn\\model_selection\\_split.py:2026: FutureWarning: From version 0.21, test_size will always complement train_size unless both are specified.\n",
      "  FutureWarning)\n"
     ]
    }
   ],
   "source": [
    "#Split Data\n",
    "\n",
    "training_features = [ 'WL_Position', 'WL_Type_1', 'ClassOfTravel_3A',\n",
    "       'ClassOfTravel_SL']\n",
    "\n",
    "target = 'Confirmation'\n",
    "\n",
    "train_x, test_x, train_y, test_y = train_test_split(ticket_dummy_df[training_features], \n",
    "                                                    ticket_dummy_df[target], train_size=0.8,random_state=400) \n"
   ]
  },
  {
   "cell_type": "code",
   "execution_count": 249,
   "metadata": {},
   "outputs": [
    {
     "name": "stdout",
     "output_type": "stream",
     "text": [
      "Sensitivity =  0.21367521367521367\n",
      "Specificity = 0.9545454545454546\n",
      "Accuracy= 0.8201550387596899\n"
     ]
    },
    {
     "data": {
      "text/plain": [
       "Text(0.5,1,'DT - Confusion Matrix')"
      ]
     },
     "execution_count": 249,
     "metadata": {},
     "output_type": "execute_result"
    },
    {
     "data": {
      "image/png": "[encoded data removed]",
      "text/plain": [
       "<matplotlib.figure.Figure at 0x29626dbffd0>"
      ]
     },
     "metadata": {},
     "output_type": "display_data"
    }
   ],
   "source": [
    "#Decision Trees\n",
    "DT_model=DecisionTreeClassifier(\n",
    "        criterion = \"gini\", random_state=0,max_depth=15,min_samples_leaf=10\n",
    "                                    )\n",
    "DT_model.fit(train_x,train_y)\n",
    "DT_predictions = DT_model.predict(test_x)\n",
    "DT_cm = confusion_matrix(test_y,DT_predictions)\n",
    "tn, fp, fn, tp = DT_cm.ravel()\n",
    "print(\"Sensitivity = \",tp/(tp+fn))\n",
    "print(\"Specificity =\", tn/(tn+fp))\n",
    "print(\"Accuracy=\",(tp+tn)/(tp+tn+fp+fn))\n",
    "ax= plt.subplot()\n",
    "cmap = sns.diverging_palette(12, 123, as_cmap=True)\n",
    "sns.heatmap(DT_cm, annot=True,fmt = '1',cmap=cmap, linewidths=.5, ax = ax); #annot=True to annotate cells\n",
    "\n",
    "# labels, title and ticks\n",
    "ax.set_xlabel('Predicted')\n",
    "ax.set_ylabel('Actual') \n",
    "ax.set_title('DT - Confusion Matrix')"
   ]
  },
  {
   "cell_type": "code",
   "execution_count": 250,
   "metadata": {},
   "outputs": [
    {
     "data": {
      "image/png": "[encoded data removed]",
      "text/plain": [
       "<matplotlib.figure.Figure at 0x29626dc6a90>"
      ]
     },
     "metadata": {},
     "output_type": "display_data"
    }
   ],
   "source": [
    "#ROC for decision tree model\n",
    "dt_roc_auc = roc_auc_score(test_y,DT_predictions)\n",
    "fpr, tpr, thresholds = roc_curve(test_y, DT_model.predict_proba(test_x)[:,1])\n",
    "plt.figure()\n",
    "plt.plot(fpr, tpr, label='Decision Tree (area = %0.2f)' % dt_roc_auc)\n",
    "plt.plot([0, 1], [0, 1],'r--')\n",
    "plt.xlim([0.0, 1.0])\n",
    "plt.ylim([0.0, 1.05])\n",
    "plt.xlabel('False Positive Rate')\n",
    "plt.ylabel('True Positive Rate')\n",
    "plt.title('Receiver operating characteristic')\n",
    "plt.legend(loc=\"lower right\")\n",
    "plt.savefig('DT_ROC')\n",
    "plt.show()"
   ]
  },
  {
   "cell_type": "code",
   "execution_count": 270,
   "metadata": {},
   "outputs": [
    {
     "name": "stdout",
     "output_type": "stream",
     "text": [
      "Sensitivity =  0.3162393162393162\n",
      "Specificity = 0.8768939393939394\n",
      "Accuracy= 0.7751937984496124\n"
     ]
    },
    {
     "data": {
      "text/plain": [
       "Text(0.5,1,'KNN - Confusion Matrix')"
      ]
     },
     "execution_count": 270,
     "metadata": {},
     "output_type": "execute_result"
    },
    {
     "data": {
      "image/png": "[encoded data removed]",
      "text/plain": [
       "<matplotlib.figure.Figure at 0x29629508b70>"
      ]
     },
     "metadata": {},
     "output_type": "display_data"
    }
   ],
   "source": [
    "#KNN\n",
    "KNN_model=neighbors.KNeighborsClassifier(n_neighbors=3,metric='minkowski')\n",
    "KNN_model.fit(train_x,train_y)\n",
    "KNN_predictions = KNN_model.predict(test_x)\n",
    "KNN_cm = confusion_matrix(test_y,KNN_predictions)\n",
    "tn, fp, fn, tp = KNN_cm.ravel()\n",
    "print(\"Sensitivity = \",tp/(tp+fn))\n",
    "print(\"Specificity =\", tn/(tn+fp))\n",
    "print(\"Accuracy=\",(tp+tn)/(tp+tn+fp+fn))\n",
    "ax= plt.subplot()\n",
    "cmap = sns.diverging_palette(12, 123, as_cmap=True)\n",
    "sns.heatmap(KNN_cm, annot=True,fmt='1',cmap=cmap, linewidths=.5, ax = ax); #annot=True to annotate cells\n",
    "\n",
    "# labels, title and ticks\n",
    "ax.set_xlabel('Predicted')\n",
    "ax.set_ylabel('Actual') \n",
    "ax.set_title('KNN - Confusion Matrix')"
   ]
  },
  {
   "cell_type": "code",
   "execution_count": 271,
   "metadata": {},
   "outputs": [
    {
     "data": {
      "image/png": "[encoded data removed]",
      "text/plain": [
       "<matplotlib.figure.Figure at 0x29625206128>"
      ]
     },
     "metadata": {},
     "output_type": "display_data"
    }
   ],
   "source": [
    "#ROC for KNN model\n",
    "KNN_roc_auc = roc_auc_score(test_y,KNN_predictions)\n",
    "fpr, tpr, thresholds = roc_curve(test_y, KNN_model.predict_proba(test_x)[:,1])\n",
    "plt.figure()\n",
    "plt.plot(fpr, tpr, label='Decision Tree (area = %0.2f)' % KNN_roc_auc)\n",
    "plt.plot([0, 1], [0, 1],'r--')\n",
    "plt.xlim([0.0, 1.0])\n",
    "plt.ylim([0.0, 1.05])\n",
    "plt.xlabel('False Positive Rate')\n",
    "plt.ylabel('True Positive Rate')\n",
    "plt.title('Receiver operating characteristic')\n",
    "plt.legend(loc=\"lower right\")\n",
    "plt.savefig('KNN_ROC')\n",
    "plt.show()"
   ]
  }
 ],
 "metadata": {
  "kernelspec": {
   "display_name": "Python 3",
   "language": "python",
   "name": "python3"
  },
  "language_info": {
   "codemirror_mode": {
    "name": "ipython",
    "version": 3
   },
   "file_extension": ".py",
   "mimetype": "text/x-python",
   "name": "python",
   "nbconvert_exporter": "python",
   "pygments_lexer": "ipython3",
   "version": "3.7.1"
  }
 },
 "nbformat": 4,
 "nbformat_minor": 2
}
