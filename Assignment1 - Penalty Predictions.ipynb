{
 "cells": [
  {
   "cell_type": "markdown",
   "metadata": {},
   "source": [
    "Assignment 1  - Penalty Predictions\n",
    "Author - Ananth Vikram"
   ]
  },
  {
   "cell_type": "code",
   "execution_count": 1,
   "metadata": {},
   "outputs": [],
   "source": [
    "import numpy as np # linear algebra\n",
    "import pandas as pd\n",
    "from sklearn.model_selection import train_test_split\n",
    "from sklearn.tree import DecisionTreeClassifier\n",
    "from sklearn.neighbors import KNeighborsClassifier\n",
    "from sklearn.linear_model import LogisticRegression\n",
    "from sklearn import svm\n",
    "from sklearn.naive_bayes import GaussianNB\n",
    "import os\n",
    "import seaborn as sns\n",
    "import matplotlib.pyplot as plt\n",
    "from  sklearn.metrics import confusion_matrix \n",
    "import logging,sys\n",
    "from sklearn import preprocessing, neighbors\n",
    "from sklearn.ensemble import RandomForestClassifier\n",
    "from sklearn.metrics import roc_auc_score\n",
    "from sklearn.metrics import roc_curve\n",
    "from sklearn import tree\n",
    "import graphviz as gv"
   ]
  },
  {
   "cell_type": "code",
   "execution_count": 2,
   "metadata": {},
   "outputs": [],
   "source": [
    "penalty_data=pd.read_csv(\"ML1_penalty_data.csv\",encoding=\"latin\")"
   ]
  },
  {
   "cell_type": "code",
   "execution_count": 3,
   "metadata": {},
   "outputs": [
    {
     "name": "stdout",
     "output_type": "stream",
     "text": [
      "Dimensions:\n",
      " (103, 12)\n",
      "---------------------------------------------------------------------\n",
      "Columns:\n",
      " Index(['No.', 'Match Week', 'Date', 'Player', 'Team', 'Versus', 'Match',\n",
      "       'Time of Penalty Awarded', 'Scored', 'Foot', 'Kick_Direction',\n",
      "       'Keeper_Direction'],\n",
      "      dtype='object')\n",
      "---------------------------------------------------------------------\n",
      "Top 3 rows:\n",
      "    No.  Match Week       Date         Player       Team      Versus  \\\n",
      "0    1           1  13-Aug-16   Riyad Mahrez  Leicester        Hull   \n",
      "1    2           1  13-Aug-16  Sergio Agüero   Man City  Sunderland   \n",
      "2    3           1  14-Aug-16   Theo Walcott    Arsenal   Liverpool   \n",
      "\n",
      "                    Match Time of Penalty Awarded  Scored Foot Kick_Direction  \\\n",
      "0       Hull vs Leicester              47' minute  Scored    L              C   \n",
      "1  Man City vs Sunderland               4' minute  Scored    R              L   \n",
      "2    Arsenal vs Liverpool              30' minute  Missed    R              L   \n",
      "\n",
      "  Keeper_Direction  \n",
      "0                R  \n",
      "1                L  \n",
      "2                L  \n",
      "---------------------------------------------------------------------\n",
      "Info:\n",
      "\n",
      "<class 'pandas.core.frame.DataFrame'>\n",
      "RangeIndex: 103 entries, 0 to 102\n",
      "Data columns (total 12 columns):\n",
      "No.                        103 non-null int64\n",
      "Match Week                 103 non-null int64\n",
      "Date                       103 non-null object\n",
      "Player                     103 non-null object\n",
      "Team                       103 non-null object\n",
      "Versus                     103 non-null object\n",
      "Match                      103 non-null object\n",
      "Time of Penalty Awarded    103 non-null object\n",
      "Scored                     103 non-null object\n",
      "Foot                       103 non-null object\n",
      "Kick_Direction             103 non-null object\n",
      "Keeper_Direction           103 non-null object\n",
      "dtypes: int64(2), object(10)\n",
      "memory usage: 9.7+ KB\n",
      "None\n",
      "---------------------------------------------------------------------\n",
      "Unique value count:\n",
      "\n",
      "No.                        103\n",
      "Match Week                  37\n",
      "Date                        56\n",
      "Player                      48\n",
      "Team                        20\n",
      "Versus                      20\n",
      "Match                       99\n",
      "Time of Penalty Awarded     62\n",
      "Scored                       2\n",
      "Foot                         2\n",
      "Kick_Direction               3\n",
      "Keeper_Direction             3\n",
      "dtype: int64\n",
      "---------------------------------------------------------------------\n",
      "Missing value count:\n",
      "\n",
      "No.                        0\n",
      "Match Week                 0\n",
      "Date                       0\n",
      "Player                     0\n",
      "Team                       0\n",
      "Versus                     0\n",
      "Match                      0\n",
      "Time of Penalty Awarded    0\n",
      "Scored                     0\n",
      "Foot                       0\n",
      "Kick_Direction             0\n",
      "Keeper_Direction           0\n",
      "dtype: int64\n",
      "---------------------------------------------------------------------\n",
      "Unique values:\n",
      "\n",
      "Scored              [Scored, Missed]\n",
      "Foot                          [L, R]\n",
      "Kick_Direction             [C, L, R]\n",
      "Keeper_Direction           [R, L, C]\n",
      "dtype: object\n"
     ]
    }
   ],
   "source": [
    "print(\"Dimensions:\\n\",penalty_data.shape)\n",
    "print(\"---------------------------------------------------------------------\")\n",
    "print(\"Columns:\\n\",penalty_data.columns)\n",
    "print(\"---------------------------------------------------------------------\")\n",
    "print(\"Top 3 rows:\\n\",penalty_data.head(3))\n",
    "print(\"---------------------------------------------------------------------\")\n",
    "print(\"Info:\\n\")\n",
    "print(penalty_data.info())\n",
    "print(\"---------------------------------------------------------------------\")\n",
    "print(\"Unique value count:\\n\")\n",
    "print(penalty_data.apply(lambda x: x.nunique()))\n",
    "print(\"---------------------------------------------------------------------\")\n",
    "print(\"Missing value count:\\n\")\n",
    "print(penalty_data.apply(lambda x: x.isna().sum()))\n",
    "print(\"---------------------------------------------------------------------\")\n",
    "print(\"Unique values:\\n\")\n",
    "print(penalty_data[['Scored', 'Foot', 'Kick_Direction','Keeper_Direction']].apply(lambda x: x.unique().tolist()))"
   ]
  },
  {
   "cell_type": "code",
   "execution_count": 4,
   "metadata": {},
   "outputs": [],
   "source": [
    "penalty_data['Keeper_Direction_Code']=penalty_data['Keeper_Direction'].apply(lambda x: 0 if x =='L' else (1 if x =='R' else 2))"
   ]
  },
  {
   "cell_type": "code",
   "execution_count": 5,
   "metadata": {},
   "outputs": [
    {
     "data": {
      "text/plain": [
       "Kick_Direction\n",
       "C    17\n",
       "L    47\n",
       "R    39\n",
       "dtype: int64"
      ]
     },
     "execution_count": 5,
     "metadata": {},
     "output_type": "execute_result"
    }
   ],
   "source": [
    "penalty_data.groupby(['Kick_Direction']).size()"
   ]
  },
  {
   "cell_type": "code",
   "execution_count": 6,
   "metadata": {},
   "outputs": [
    {
     "data": {
      "text/plain": [
       "Keeper_Direction\n",
       "C     6\n",
       "L    45\n",
       "R    52\n",
       "dtype: int64"
      ]
     },
     "execution_count": 6,
     "metadata": {},
     "output_type": "execute_result"
    }
   ],
   "source": [
    "penalty_data.groupby(['Keeper_Direction']).size()"
   ]
  },
  {
   "cell_type": "code",
   "execution_count": 7,
   "metadata": {},
   "outputs": [],
   "source": [
    "penalty_filtered_data=penalty_data[penalty_data['Keeper_Direction']!='C'] #Removing non significant value"
   ]
  },
  {
   "cell_type": "code",
   "execution_count": 8,
   "metadata": {},
   "outputs": [
    {
     "data": {
      "text/plain": [
       "Keeper_Direction\n",
       "L    45\n",
       "R    52\n",
       "dtype: int64"
      ]
     },
     "execution_count": 8,
     "metadata": {},
     "output_type": "execute_result"
    }
   ],
   "source": [
    "penalty_filtered_data.groupby(['Keeper_Direction']).size()"
   ]
  },
  {
   "cell_type": "code",
   "execution_count": 9,
   "metadata": {},
   "outputs": [],
   "source": [
    "penalty_dummy_df=pd.get_dummies(penalty_filtered_data[['Scored', 'Foot', 'Kick_Direction','Keeper_Direction_Code']],drop_first=True)\n",
    "#penalty_dummy_df=penalty_dummy_df.drop([\"Scored_Missed\",\"Foot_R\"],axis=1)"
   ]
  },
  {
   "cell_type": "code",
   "execution_count": 10,
   "metadata": {},
   "outputs": [
    {
     "data": {
      "text/html": [
       "<div>\n",
       "<style scoped>\n",
       "    .dataframe tbody tr th:only-of-type {\n",
       "        vertical-align: middle;\n",
       "    }\n",
       "\n",
       "    .dataframe tbody tr th {\n",
       "        vertical-align: top;\n",
       "    }\n",
       "\n",
       "    .dataframe thead th {\n",
       "        text-align: right;\n",
       "    }\n",
       "</style>\n",
       "<table border=\"1\" class=\"dataframe\">\n",
       "  <thead>\n",
       "    <tr style=\"text-align: right;\">\n",
       "      <th></th>\n",
       "      <th>Keeper_Direction_Code</th>\n",
       "      <th>Scored_Scored</th>\n",
       "      <th>Foot_R</th>\n",
       "      <th>Kick_Direction_L</th>\n",
       "      <th>Kick_Direction_R</th>\n",
       "    </tr>\n",
       "  </thead>\n",
       "  <tbody>\n",
       "    <tr>\n",
       "      <th>0</th>\n",
       "      <td>1</td>\n",
       "      <td>1</td>\n",
       "      <td>0</td>\n",
       "      <td>0</td>\n",
       "      <td>0</td>\n",
       "    </tr>\n",
       "    <tr>\n",
       "      <th>1</th>\n",
       "      <td>0</td>\n",
       "      <td>1</td>\n",
       "      <td>1</td>\n",
       "      <td>1</td>\n",
       "      <td>0</td>\n",
       "    </tr>\n",
       "    <tr>\n",
       "      <th>2</th>\n",
       "      <td>0</td>\n",
       "      <td>0</td>\n",
       "      <td>1</td>\n",
       "      <td>1</td>\n",
       "      <td>0</td>\n",
       "    </tr>\n",
       "    <tr>\n",
       "      <th>3</th>\n",
       "      <td>0</td>\n",
       "      <td>1</td>\n",
       "      <td>1</td>\n",
       "      <td>0</td>\n",
       "      <td>0</td>\n",
       "    </tr>\n",
       "    <tr>\n",
       "      <th>4</th>\n",
       "      <td>1</td>\n",
       "      <td>1</td>\n",
       "      <td>1</td>\n",
       "      <td>1</td>\n",
       "      <td>0</td>\n",
       "    </tr>\n",
       "  </tbody>\n",
       "</table>\n",
       "</div>"
      ],
      "text/plain": [
       "   Keeper_Direction_Code  Scored_Scored  Foot_R  Kick_Direction_L  \\\n",
       "0                      1              1       0                 0   \n",
       "1                      0              1       1                 1   \n",
       "2                      0              0       1                 1   \n",
       "3                      0              1       1                 0   \n",
       "4                      1              1       1                 1   \n",
       "\n",
       "   Kick_Direction_R  \n",
       "0                 0  \n",
       "1                 0  \n",
       "2                 0  \n",
       "3                 0  \n",
       "4                 0  "
      ]
     },
     "execution_count": 10,
     "metadata": {},
     "output_type": "execute_result"
    }
   ],
   "source": [
    "penalty_dummy_df.head(5)"
   ]
  },
  {
   "cell_type": "code",
   "execution_count": 11,
   "metadata": {},
   "outputs": [
    {
     "data": {
      "text/plain": [
       "Index(['Keeper_Direction_Code', 'Scored_Scored', 'Foot_R', 'Kick_Direction_L',\n",
       "       'Kick_Direction_R'],\n",
       "      dtype='object')"
      ]
     },
     "execution_count": 11,
     "metadata": {},
     "output_type": "execute_result"
    }
   ],
   "source": [
    "penalty_dummy_df.columns"
   ]
  },
  {
   "cell_type": "code",
   "execution_count": 12,
   "metadata": {},
   "outputs": [
    {
     "name": "stderr",
     "output_type": "stream",
     "text": [
      "C:\\Users\\anant\\Anaconda3\\lib\\site-packages\\sklearn\\model_selection\\_split.py:2026: FutureWarning: From version 0.21, test_size will always complement train_size unless both are specified.\n",
      "  FutureWarning)\n"
     ]
    }
   ],
   "source": [
    "#Split Data\n",
    "training_features = [ 'Scored_Scored', 'Foot_R', 'Kick_Direction_L',\n",
    "       'Kick_Direction_R']\n",
    "\n",
    "target = 'Keeper_Direction_Code'\n",
    "\n",
    "train_x, test_x, train_y, test_y = train_test_split(penalty_dummy_df[training_features], \n",
    "                                                    penalty_dummy_df[target], train_size=0.8,random_state=45) \n"
   ]
  },
  {
   "cell_type": "code",
   "execution_count": 13,
   "metadata": {},
   "outputs": [
    {
     "name": "stdout",
     "output_type": "stream",
     "text": [
      "CM: 7 3 3 7\n",
      "Sensitivity =  0.7\n",
      "Specificity = 0.7\n",
      "Accuracy= 0.7\n"
     ]
    },
    {
     "data": {
      "text/plain": [
       "Text(0.5,1,'LogReg - Confusion Matrix')"
      ]
     },
     "execution_count": 13,
     "metadata": {},
     "output_type": "execute_result"
    },
    {
     "data": {
      "image/png": "[encoded data removed]",
      "text/plain": [
       "<matplotlib.figure.Figure at 0x203ee5f9f98>"
      ]
     },
     "metadata": {},
     "output_type": "display_data"
    }
   ],
   "source": [
    "#Logistic Regression\n",
    "\n",
    "LogReg_model=LogisticRegression(C=1,random_state=0,solver='liblinear')\n",
    "LogReg_model.fit(train_x,train_y)\n",
    "LogReg_predictions = LogReg_model.predict(test_x)\n",
    "LogReg_cm = confusion_matrix(test_y,LogReg_predictions)\n",
    "tn, fp, fn, tp = LogReg_cm.ravel()\n",
    "print(\"CM:\",tn, fp, fn, tp)\n",
    "print(\"Sensitivity = \",tp/(tp+fn))\n",
    "print(\"Specificity =\", tn/(tn+fp))\n",
    "print(\"Accuracy=\",(tp+tn)/(tp+tn+fp+fn))\n",
    "ax= plt.subplot()\n",
    "cmap = sns.diverging_palette(12, 123, as_cmap=True)\n",
    "\n",
    "sns.heatmap(LogReg_cm, annot=True,cmap=cmap, linewidths=.5,ax = ax) #annot=True to annotate cells\n",
    "\n",
    "# labels, title and ticks\n",
    "ax.set_xlabel('Predicted')\n",
    "ax.set_ylabel('Actual') \n",
    "ax.set_title('LogReg - Confusion Matrix')"
   ]
  },
  {
   "cell_type": "code",
   "execution_count": 14,
   "metadata": {},
   "outputs": [
    {
     "data": {
      "image/png": "[encoded data removed]",
      "text/plain": [
       "<matplotlib.figure.Figure at 0x203ee6b6710>"
      ]
     },
     "metadata": {},
     "output_type": "display_data"
    }
   ],
   "source": [
    "#ROC for Logistic Regression Model\n",
    "\n",
    "logit_roc_auc = roc_auc_score(test_y,LogReg_predictions)\n",
    "fpr, tpr, thresholds = roc_curve(test_y, LogReg_model.predict_proba(test_x)[:,1])\n",
    "plt.figure()\n",
    "plt.plot(fpr, tpr, label='Logistic Regression (area = %0.2f)' % logit_roc_auc)\n",
    "plt.plot([0, 1], [0, 1],'r--')\n",
    "plt.xlim([0.0, 1.0])\n",
    "plt.ylim([0.0, 1.05])\n",
    "plt.xlabel('False Positive Rate')\n",
    "plt.ylabel('True Positive Rate')\n",
    "plt.title('Receiver operating characteristic')\n",
    "plt.legend(loc=\"lower right\")\n",
    "plt.savefig('Log_ROC')\n",
    "plt.show()"
   ]
  },
  {
   "cell_type": "code",
   "execution_count": 66,
   "metadata": {},
   "outputs": [
    {
     "name": "stdout",
     "output_type": "stream",
     "text": [
      "#Scenario 1: If left foot is used kick towards left side and goal is saved, then the keeper moves to towards: Right\n",
      "#Scenario 2: If left foot is used kick towards right side and goal is saved, then the keeper moves to towards: Right\n",
      "#Scenario 3: If right foot is used kick towards left side and goal is saved, then the keeper moves to towards: Left\n",
      "#Scenario 4: If right foot is used kick towards right side and goal is saved, then the keeper moves to towards: Left\n"
     ]
    }
   ],
   "source": [
    "#Predict goal keeper movement\n",
    "\n",
    "#training_features = [ 'Scored_Scored', 'Foot_R', 'Kick_Direction_L','Kick_Direction_R']\n",
    "keeper_direction=['Left','Right']\n",
    "\n",
    "print(\"#Scenario 1: If left foot is used kick towards left side and goal is saved, then the keeper moves to towards:\"\n",
    "      ,keeper_direction[LogReg_model.predict([[0,0,1,0]])[0]])\n",
    "\n",
    "print(\"#Scenario 2: If left foot is used kick towards right side and goal is saved, then the keeper moves to towards:\"\n",
    "      ,keeper_direction[LogReg_model.predict([[0,0,0,1]])[0]])\n",
    "\n",
    "print(\"#Scenario 3: If right foot is used kick towards left side and goal is saved, then the keeper moves to towards:\"\n",
    "      ,keeper_direction[LogReg_model.predict([[0,1,1,0]])[0]])\n",
    "\n",
    "print(\"#Scenario 4: If right foot is used kick towards right side and goal is saved, then the keeper moves to towards:\"\n",
    "      ,keeper_direction[LogReg_model.predict([[0,1,0,0]])[0]])\n"
   ]
  },
  {
   "cell_type": "markdown",
   "metadata": {},
   "source": [
    "#Trials for various other classification techniques"
   ]
  },
  {
   "cell_type": "code",
   "execution_count": 23,
   "metadata": {},
   "outputs": [
    {
     "name": "stdout",
     "output_type": "stream",
     "text": [
      "Sensitivity =  0.4\n",
      "Specificity = 0.9\n",
      "Accuracy= 0.65\n"
     ]
    },
    {
     "data": {
      "text/plain": [
       "Text(0.5,1,'SVM - Confusion Matrix')"
      ]
     },
     "execution_count": 23,
     "metadata": {},
     "output_type": "execute_result"
    },
    {
     "data": {
      "image/png": "[encoded data removed]",
      "text/plain": [
       "<matplotlib.figure.Figure at 0x203eeebec88>"
      ]
     },
     "metadata": {},
     "output_type": "display_data"
    }
   ],
   "source": [
    "#SVM\n",
    "svm_model=svm.SVC(kernel=\"linear\",C=100,random_state=2,gamma=100)\n",
    "svm_model.fit(train_x,train_y)\n",
    "svm_predictions = svm_model.predict(test_x)\n",
    "svm_cm = confusion_matrix(test_y,svm_predictions)\n",
    "tn, fp, fn, tp = svm_cm.ravel()\n",
    "print(\"Sensitivity = \",tp/(tp+fn))\n",
    "print(\"Specificity =\", tn/(tn+fp))\n",
    "print(\"Accuracy=\",(tp+tn)/(tp+tn+fp+fn))\n",
    "ax= plt.subplot()\n",
    "cmap = sns.diverging_palette(12, 123, as_cmap=True)\n",
    "sns.heatmap(svm_cm, annot=True,cmap=cmap, linewidths=.5, ax = ax); #annot=True to annotate cells\n",
    "\n",
    "# labels, title and ticks\n",
    "ax.set_xlabel('Predicted')\n",
    "ax.set_ylabel('Actual') \n",
    "ax.set_title('SVM - Confusion Matrix')"
   ]
  },
  {
   "cell_type": "code",
   "execution_count": 17,
   "metadata": {
    "scrolled": false
   },
   "outputs": [
    {
     "name": "stdout",
     "output_type": "stream",
     "text": [
      "Sensitivity =  0.8\n",
      "Specificity = 0.6\n",
      "Accuracy= 0.7\n"
     ]
    },
    {
     "data": {
      "text/plain": [
       "Text(0.5,1,'DT - Confusion Matrix')"
      ]
     },
     "execution_count": 17,
     "metadata": {},
     "output_type": "execute_result"
    },
    {
     "data": {
      "image/png": "[encoded data removed]",
      "text/plain": [
       "<matplotlib.figure.Figure at 0x203eeafe128>"
      ]
     },
     "metadata": {},
     "output_type": "display_data"
    }
   ],
   "source": [
    "#Decision Trees\n",
    "DT_model=DecisionTreeClassifier(\n",
    "        criterion = \"gini\", random_state=0,max_depth=20,min_samples_leaf=4\n",
    "                                    )\n",
    "DT_model.fit(train_x,train_y)\n",
    "DT_predictions = DT_model.predict(test_x)\n",
    "DT_cm = confusion_matrix(test_y,DT_predictions)\n",
    "tn, fp, fn, tp = DT_cm.ravel()\n",
    "print(\"Sensitivity = \",tp/(tp+fn))\n",
    "print(\"Specificity =\", tn/(tn+fp))\n",
    "print(\"Accuracy=\",(tp+tn)/(tp+tn+fp+fn))\n",
    "ax= plt.subplot()\n",
    "cmap = sns.diverging_palette(12, 123, as_cmap=True)\n",
    "sns.heatmap(DT_cm, annot=True,cmap=cmap, linewidths=.5, ax = ax); #annot=True to annotate cells\n",
    "\n",
    "# labels, title and ticks\n",
    "ax.set_xlabel('Predicted')\n",
    "ax.set_ylabel('Actual') \n",
    "ax.set_title('DT - Confusion Matrix')"
   ]
  },
  {
   "cell_type": "code",
   "execution_count": 18,
   "metadata": {},
   "outputs": [
    {
     "name": "stdout",
     "output_type": "stream",
     "text": [
      "Sensitivity =  0.9\n",
      "Specificity = 0.2\n",
      "Accuracy= 0.55\n"
     ]
    },
    {
     "data": {
      "text/plain": [
       "Text(0.5,1,'KNN - Confusion Matrix')"
      ]
     },
     "execution_count": 18,
     "metadata": {},
     "output_type": "execute_result"
    },
    {
     "data": {
      "image/png": "[encoded data removed]",
      "text/plain": [
       "<matplotlib.figure.Figure at 0x203eebd8da0>"
      ]
     },
     "metadata": {},
     "output_type": "display_data"
    }
   ],
   "source": [
    "#KNN\n",
    "KNN_model=neighbors.KNeighborsClassifier()\n",
    "KNN_model.fit(train_x,train_y)\n",
    "KNN_predictions = KNN_model.predict(test_x)\n",
    "KNN_cm = confusion_matrix(test_y,KNN_predictions)\n",
    "tn, fp, fn, tp = KNN_cm.ravel()\n",
    "print(\"Sensitivity = \",tp/(tp+fn))\n",
    "print(\"Specificity =\", tn/(tn+fp))\n",
    "print(\"Accuracy=\",(tp+tn)/(tp+tn+fp+fn))\n",
    "ax= plt.subplot()\n",
    "cmap = sns.diverging_palette(12, 123, as_cmap=True)\n",
    "sns.heatmap(KNN_cm, annot=True,cmap=cmap, linewidths=.5, ax = ax); #annot=True to annotate cells\n",
    "\n",
    "# labels, title and ticks\n",
    "ax.set_xlabel('Predicted')\n",
    "ax.set_ylabel('Actual') \n",
    "ax.set_title('KNN - Confusion Matrix')"
   ]
  },
  {
   "cell_type": "code",
   "execution_count": 19,
   "metadata": {
    "scrolled": false
   },
   "outputs": [
    {
     "name": "stdout",
     "output_type": "stream",
     "text": [
      "Sensitivity =  0.9\n",
      "Specificity = 0.5\n",
      "Accuracy= 0.7\n"
     ]
    },
    {
     "data": {
      "text/plain": [
       "Text(0.5,1,'RandomForest - Confusion Matrix')"
      ]
     },
     "execution_count": 19,
     "metadata": {},
     "output_type": "execute_result"
    },
    {
     "data": {
      "image/png": "[encoded data removed]",
      "text/plain": [
       "<matplotlib.figure.Figure at 0x203eec3ec88>"
      ]
     },
     "metadata": {},
     "output_type": "display_data"
    }
   ],
   "source": [
    "#RandomForest\n",
    "RandomForest_model=RandomForestClassifier(n_estimators=105, max_depth=10,random_state=10,min_samples_leaf=5,criterion='entropy')\n",
    "RandomForest_model.fit(train_x,train_y)\n",
    "RandomForest_predictions = RandomForest_model.predict(test_x)\n",
    "RandomForest_cm = confusion_matrix(test_y,RandomForest_predictions)\n",
    "tn, fp, fn, tp = RandomForest_cm.ravel()\n",
    "print(\"Sensitivity = \",tp/(tp+fn))\n",
    "print(\"Specificity =\", tn/(tn+fp))\n",
    "print(\"Accuracy=\",(tp+tn)/(tp+tn+fp+fn))\n",
    "ax= plt.subplot()\n",
    "cmap = sns.diverging_palette(12, 123, as_cmap=True)\n",
    "sns.heatmap(RandomForest_cm, annot=True,cmap=cmap, linewidths=.5, ax = ax); #annot=True to annotate cells\n",
    "\n",
    "# labels, title and ticks\n",
    "ax.set_xlabel('Predicted')\n",
    "ax.set_ylabel('Actual') \n",
    "ax.set_title('RandomForest - Confusion Matrix')"
   ]
  },
  {
   "cell_type": "code",
   "execution_count": 83,
   "metadata": {},
   "outputs": [
    {
     "data": {
      "image/png": "[encoded data removed]",
      "text/plain": [
       "<matplotlib.figure.Figure at 0x203f0607f60>"
      ]
     },
     "metadata": {},
     "output_type": "display_data"
    }
   ],
   "source": [
    "feature_importances = pd.DataFrame(RandomForest_model.feature_importances_,\n",
    "                                   index = train_x.columns,\n",
    "                                    columns=['importance']).sort_values('importance',ascending=False)\n",
    "\n",
    "ax = feature_importances.plot.bar(y='importance', rot=45,color='b')"
   ]
  }
 ],
 "metadata": {
  "celltoolbar": "Raw Cell Format",
  "kernelspec": {
   "display_name": "Python 3",
   "language": "python",
   "name": "python3"
  },
  "language_info": {
   "codemirror_mode": {
    "name": "ipython",
    "version": 3
   },
   "file_extension": ".py",
   "mimetype": "text/x-python",
   "name": "python",
   "nbconvert_exporter": "python",
   "pygments_lexer": "ipython3",
   "version": "3.7.1"
  }
 },
 "nbformat": 4,
 "nbformat_minor": 2
}
